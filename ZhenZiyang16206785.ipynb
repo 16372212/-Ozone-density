{
 "cells": [
  {
   "cell_type": "code",
   "execution_count": 1,
   "metadata": {},
   "outputs": [],
   "source": [
    "# this jupyter file is used to predict the classification task of \"orzone\"."
   ]
  },
  {
   "cell_type": "code",
   "execution_count": 2,
   "metadata": {},
   "outputs": [],
   "source": [
    "import time\n",
    "import pandas as pd\n",
    "import numpy as np"
   ]
  },
  {
   "cell_type": "code",
   "execution_count": 3,
   "metadata": {},
   "outputs": [],
   "source": [
    "# data file\n",
    "File1 = \"ozone_onehr.csv\"\n",
    "File2 = \"ozone_eighthr.csv\""
   ]
  },
  {
   "cell_type": "code",
   "execution_count": 4,
   "metadata": {},
   "outputs": [],
   "source": [
    "# in these two datasets, i use two algorithm, one is decision tree and the other is LogisticRegression"
   ]
  },
  {
   "cell_type": "code",
   "execution_count": 5,
   "metadata": {},
   "outputs": [],
   "source": [
    "# The reason why i choose logisticRegression:\n",
    "# Before choosing some models, using logisticRegression to make a base model is a good idea.\n",
    "# And it is easy relatively.\n",
    "# the reason why i choose desicion tree:\n",
    "# 1、 it can be used for both classification and regression problems\n",
    "# 2、 over fitting might be handled because there are many trees\n",
    "# 3、can deal with missing value"
   ]
  },
  {
   "cell_type": "code",
   "execution_count": 6,
   "metadata": {},
   "outputs": [],
   "source": [
    "#data file：ozone_onehr.csv\n",
    "# get data from file\n",
    "file_name = File1\n",
    "dataset = pd.read_csv(file_name)"
   ]
  },
  {
   "cell_type": "code",
   "execution_count": 7,
   "metadata": {},
   "outputs": [],
   "source": [
    "# find all \"?\" and make it np.nan\n",
    "dataset = dataset.replace('?', np.nan).infer_objects()\n",
    "object_of_file = [col for col in dataset.columns if dataset[col].dtype == 'object']\n",
    "object_of_file.pop(object_of_file.index('Date'))\n",
    "# \n",
    "dataset[object_of_file] = dataset[object_of_file].applymap(float)\n",
    "df_0 = dataset"
   ]
  },
  {
   "cell_type": "code",
   "execution_count": 8,
   "metadata": {
    "scrolled": true
   },
   "outputs": [],
   "source": [
    "# fill all nan data,i use mean value to fill nan data \n",
    "# Calculate the mean value of each column of characteristic data respectively, and fill in the characteristic \n",
    "# value of this column with the mean value\n",
    "from collections import Counter\n",
    "df = df_0\n",
    "nan_cols = df.columns[df.isnull().sum() > 0]\n",
    "values = {col:df[col].mean() for col in nan_cols}\n",
    "df_0 = df.fillna(value=values)"
   ]
  },
  {
   "cell_type": "code",
   "execution_count": 9,
   "metadata": {},
   "outputs": [
    {
     "data": {
      "text/html": [
       "<div>\n",
       "<style scoped>\n",
       "    .dataframe tbody tr th:only-of-type {\n",
       "        vertical-align: middle;\n",
       "    }\n",
       "\n",
       "    .dataframe tbody tr th {\n",
       "        vertical-align: top;\n",
       "    }\n",
       "\n",
       "    .dataframe thead th {\n",
       "        text-align: right;\n",
       "    }\n",
       "</style>\n",
       "<table border=\"1\" class=\"dataframe\">\n",
       "  <thead>\n",
       "    <tr style=\"text-align: right;\">\n",
       "      <th></th>\n",
       "      <th>Date</th>\n",
       "      <th>WSR0</th>\n",
       "      <th>WSR1</th>\n",
       "      <th>WSR2</th>\n",
       "      <th>WSR3</th>\n",
       "      <th>WSR4</th>\n",
       "      <th>WSR5</th>\n",
       "      <th>WSR6</th>\n",
       "      <th>WSR7</th>\n",
       "      <th>WSR8</th>\n",
       "      <th>...</th>\n",
       "      <th>RH50</th>\n",
       "      <th>U50</th>\n",
       "      <th>V50</th>\n",
       "      <th>HT50</th>\n",
       "      <th>KI</th>\n",
       "      <th>TT</th>\n",
       "      <th>SLP</th>\n",
       "      <th>SLP_</th>\n",
       "      <th>Precp</th>\n",
       "      <th>Orzone</th>\n",
       "    </tr>\n",
       "  </thead>\n",
       "  <tbody>\n",
       "    <tr>\n",
       "      <th>0</th>\n",
       "      <td>01/01/1998</td>\n",
       "      <td>0.8</td>\n",
       "      <td>1.8</td>\n",
       "      <td>2.4</td>\n",
       "      <td>2.1</td>\n",
       "      <td>2.0</td>\n",
       "      <td>2.1</td>\n",
       "      <td>1.5</td>\n",
       "      <td>1.7</td>\n",
       "      <td>1.9</td>\n",
       "      <td>...</td>\n",
       "      <td>0.15000</td>\n",
       "      <td>10.670000</td>\n",
       "      <td>-1.560000</td>\n",
       "      <td>5795.000000</td>\n",
       "      <td>-12.100000</td>\n",
       "      <td>17.900000</td>\n",
       "      <td>10330.000000</td>\n",
       "      <td>-55.000000</td>\n",
       "      <td>0.00</td>\n",
       "      <td>0</td>\n",
       "    </tr>\n",
       "    <tr>\n",
       "      <th>1</th>\n",
       "      <td>01/02/1998</td>\n",
       "      <td>2.8</td>\n",
       "      <td>3.2</td>\n",
       "      <td>3.3</td>\n",
       "      <td>2.7</td>\n",
       "      <td>3.3</td>\n",
       "      <td>3.2</td>\n",
       "      <td>2.9</td>\n",
       "      <td>2.8</td>\n",
       "      <td>3.1</td>\n",
       "      <td>...</td>\n",
       "      <td>0.48000</td>\n",
       "      <td>8.390000</td>\n",
       "      <td>3.840000</td>\n",
       "      <td>5805.000000</td>\n",
       "      <td>14.050000</td>\n",
       "      <td>29.000000</td>\n",
       "      <td>10275.000000</td>\n",
       "      <td>-55.000000</td>\n",
       "      <td>0.00</td>\n",
       "      <td>0</td>\n",
       "    </tr>\n",
       "    <tr>\n",
       "      <th>2</th>\n",
       "      <td>01/03/1998</td>\n",
       "      <td>2.9</td>\n",
       "      <td>2.8</td>\n",
       "      <td>2.6</td>\n",
       "      <td>2.1</td>\n",
       "      <td>2.2</td>\n",
       "      <td>2.5</td>\n",
       "      <td>2.5</td>\n",
       "      <td>2.7</td>\n",
       "      <td>2.2</td>\n",
       "      <td>...</td>\n",
       "      <td>0.60000</td>\n",
       "      <td>6.940000</td>\n",
       "      <td>9.800000</td>\n",
       "      <td>5790.000000</td>\n",
       "      <td>17.900000</td>\n",
       "      <td>41.300000</td>\n",
       "      <td>10235.000000</td>\n",
       "      <td>-40.000000</td>\n",
       "      <td>0.00</td>\n",
       "      <td>0</td>\n",
       "    </tr>\n",
       "    <tr>\n",
       "      <th>3</th>\n",
       "      <td>01/04/1998</td>\n",
       "      <td>4.7</td>\n",
       "      <td>3.8</td>\n",
       "      <td>3.7</td>\n",
       "      <td>3.8</td>\n",
       "      <td>2.9</td>\n",
       "      <td>3.1</td>\n",
       "      <td>2.8</td>\n",
       "      <td>2.5</td>\n",
       "      <td>2.4</td>\n",
       "      <td>...</td>\n",
       "      <td>0.49000</td>\n",
       "      <td>8.730000</td>\n",
       "      <td>10.540000</td>\n",
       "      <td>5775.000000</td>\n",
       "      <td>31.150000</td>\n",
       "      <td>51.700000</td>\n",
       "      <td>10195.000000</td>\n",
       "      <td>-40.000000</td>\n",
       "      <td>2.08</td>\n",
       "      <td>0</td>\n",
       "    </tr>\n",
       "    <tr>\n",
       "      <th>4</th>\n",
       "      <td>01/05/1998</td>\n",
       "      <td>2.6</td>\n",
       "      <td>2.1</td>\n",
       "      <td>1.6</td>\n",
       "      <td>1.4</td>\n",
       "      <td>0.9</td>\n",
       "      <td>1.5</td>\n",
       "      <td>1.2</td>\n",
       "      <td>1.4</td>\n",
       "      <td>1.3</td>\n",
       "      <td>...</td>\n",
       "      <td>0.30467</td>\n",
       "      <td>9.867313</td>\n",
       "      <td>0.831892</td>\n",
       "      <td>5818.898515</td>\n",
       "      <td>10.510812</td>\n",
       "      <td>37.388366</td>\n",
       "      <td>10164.180664</td>\n",
       "      <td>-0.130416</td>\n",
       "      <td>0.58</td>\n",
       "      <td>0</td>\n",
       "    </tr>\n",
       "  </tbody>\n",
       "</table>\n",
       "<p>5 rows × 74 columns</p>\n",
       "</div>"
      ],
      "text/plain": [
       "         Date  WSR0  WSR1  WSR2  WSR3  WSR4  WSR5  WSR6  WSR7  WSR8  ...  \\\n",
       "0  01/01/1998   0.8   1.8   2.4   2.1   2.0   2.1   1.5   1.7   1.9  ...   \n",
       "1  01/02/1998   2.8   3.2   3.3   2.7   3.3   3.2   2.9   2.8   3.1  ...   \n",
       "2  01/03/1998   2.9   2.8   2.6   2.1   2.2   2.5   2.5   2.7   2.2  ...   \n",
       "3  01/04/1998   4.7   3.8   3.7   3.8   2.9   3.1   2.8   2.5   2.4  ...   \n",
       "4  01/05/1998   2.6   2.1   1.6   1.4   0.9   1.5   1.2   1.4   1.3  ...   \n",
       "\n",
       "      RH50        U50        V50         HT50         KI         TT  \\\n",
       "0  0.15000  10.670000  -1.560000  5795.000000 -12.100000  17.900000   \n",
       "1  0.48000   8.390000   3.840000  5805.000000  14.050000  29.000000   \n",
       "2  0.60000   6.940000   9.800000  5790.000000  17.900000  41.300000   \n",
       "3  0.49000   8.730000  10.540000  5775.000000  31.150000  51.700000   \n",
       "4  0.30467   9.867313   0.831892  5818.898515  10.510812  37.388366   \n",
       "\n",
       "            SLP       SLP_  Precp  Orzone  \n",
       "0  10330.000000 -55.000000   0.00       0  \n",
       "1  10275.000000 -55.000000   0.00       0  \n",
       "2  10235.000000 -40.000000   0.00       0  \n",
       "3  10195.000000 -40.000000   2.08       0  \n",
       "4  10164.180664  -0.130416   0.58       0  \n",
       "\n",
       "[5 rows x 74 columns]"
      ]
     },
     "execution_count": 9,
     "metadata": {},
     "output_type": "execute_result"
    }
   ],
   "source": [
    "df_0.head()\n"
   ]
  },
  {
   "cell_type": "code",
   "execution_count": 10,
   "metadata": {},
   "outputs": [],
   "source": [
    "# split the dataset into train and text\n",
    "# i try to delet \"Date\", i think it is redudent and useless\n",
    "# And i also classify the data to make it as standard normal distribution N(0,1)\n",
    "from sklearn.model_selection import train_test_split, GridSearchCV\n",
    "from sklearn.preprocessing import StandardScaler\n",
    "from sklearn.ensemble import RandomForestClassifier as rfc\n",
    "from sklearn.linear_model import LogisticRegression as lrc\n",
    "from sklearn.metrics import accuracy_score, roc_curve\n",
    "\n",
    "\n",
    "def data_split(df):\n",
    "    data1 = df.drop(\"Date\", axis=1)\n",
    "    data = data1.values\n",
    "    X, y = data[:, :-1], data[:, -1]\n",
    "    ss = StandardScaler()\n",
    "    X = ss.fit_transform(X)\n",
    "    # I split train and text data into 7:3 \n",
    "    X_train, X_test, y_train, y_test = train_test_split(X, y, test_size=0.3, random_state=1)\n",
    "    return X_train, X_test, y_train, y_test"
   ]
  },
  {
   "cell_type": "code",
   "execution_count": 11,
   "metadata": {},
   "outputs": [],
   "source": [
    "# this part learn from https://blog.csdn.net/qq_30638831/article/details/80200684 and https://blog.csdn.net/u010758410/article/details/78158781"
   ]
  },
  {
   "cell_type": "code",
   "execution_count": 12,
   "metadata": {},
   "outputs": [],
   "source": [
    "X_train, X_test, y_train, y_test = data_split(df_0)\n"
   ]
  },
  {
   "cell_type": "code",
   "execution_count": 13,
   "metadata": {},
   "outputs": [],
   "source": [
    "# Then i use grid to find the best parameter and best score\n",
    "    # Explain gird: Each parameter combination is traversed, and ten fold cross validation is performed on the training data set. \n",
    "    # Select the parameter with the highest average accuracy of cross validation as the optimal parameter\n",
    "def grid_search(x_, y_, model, args):\n",
    "    grid = GridSearchCV(model, param_grid=args, cv=10)\n",
    "    grid.fit(x_, y_)\n",
    "    return grid.best_params_, grid.best_score_\n",
    "\n"
   ]
  },
  {
   "cell_type": "code",
   "execution_count": 14,
   "metadata": {},
   "outputs": [],
   "source": [
    "# I make the parameter search in this range, and then get the best param\n",
    "\n",
    "# Search range of random forest parameters\n",
    "RFC_ARGS = {\"n_estimators\": [100, 300, 500],\n",
    "            \"criterion\": [\"gini\", \"entropy\"]}\n",
    "# Search range of logistic regression\n",
    "LRC_ARGS = {\"penalty\": ['l1', 'l2'],\n",
    "            \"C\": [0.02, 0.01, 0.1, 0.5]}\n",
    "\n",
    "def model_train(model, args, X_train, y_train):\n",
    "#train the model on all training samples with the selected parameters, and calculate the time spent on the model and the training accuracy rate\n",
    "    # param search\n",
    "    print(f\"{model.__name__:-^80}\")\n",
    "    best_params, best_score = grid_search(X_train, y_train, model(random_state=1), args)\n",
    "    print(f\"the best paramsters by grid-search is:{best_params}\")\n",
    "    print(f\"the best paramsters is:{best_score}\")\n",
    "    # train\n",
    "    start_time = time.time()\n",
    "    clf = model(random_state=1, **best_params)\n",
    "    clf.fit(X_train, y_train)\n",
    "    # this time i add time counter to compare the difference of two models\n",
    "    # From ROC, we know the accuracy is so similar, so we need to find other different factors\n",
    "   \n",
    "    timess = time.time()-start_time\n",
    "    # predict\n",
    "    train_accurate = accuracy_score(y_train, clf.predict(X_train))\n",
    "    # display\n",
    "    print(f\"time cost of model training: {timess:.6} S\")\n",
    "    print(f\"train accuracy:{train_accurate:.3%}\")\n",
    "    return clf"
   ]
  },
  {
   "cell_type": "code",
   "execution_count": 15,
   "metadata": {},
   "outputs": [],
   "source": [
    "# reference of gridsearch code :\n",
    "# https://blog.csdn.net/tensorflow66/article/details/79772304\n",
    "# and http://ju.outofmemory.cn/entry/329943 and https://blog.csdn.net/shinsonwu/article/details/85239730"
   ]
  },
  {
   "cell_type": "code",
   "execution_count": 16,
   "metadata": {
    "scrolled": true
   },
   "outputs": [
    {
     "name": "stdout",
     "output_type": "stream",
     "text": [
      "-----------------------------RandomForestClassifier-----------------------------\n",
      "the best paramsters by grid-search is:{'criterion': 'entropy', 'n_estimators': 500}\n",
      "the best paramsters is:0.9712676056338028\n",
      "time cost of model training: 1.60297 S\n",
      "train accuracy:100.000%\n",
      "-------------------------------LogisticRegression-------------------------------\n",
      "the best paramsters by grid-search is:{'C': 0.5, 'penalty': 'l2'}\n",
      "the best paramsters is:0.9729577464788732\n",
      "time cost of model training: 0.0229385 S\n",
      "train accuracy:97.465%\n"
     ]
    }
   ],
   "source": [
    "import warnings\n",
    "warnings.filterwarnings(\"ignore\")\n",
    "\n",
    "# train the random forest in the first dataset\n",
    "rf_classifier1 = model_train(rfc, RFC_ARGS, X_train, y_train)\n",
    "# train the logistic regression in the first dataset\n",
    "lr_classifier1 = model_train(lrc, LRC_ARGS, X_train, y_train)\n"
   ]
  },
  {
   "cell_type": "code",
   "execution_count": 17,
   "metadata": {
    "scrolled": false
   },
   "outputs": [],
   "source": [
    "import matplotlib.pyplot as plt\n",
    "\n",
    "def validation(clfs, X_test, y_test):\n",
    "# We calculated and compared the accuracy of different models in training data\n",
    "    for clf in clfs:\n",
    "        test_accu = accuracy_score(y_test, clf.predict(X_test))\n",
    "        print(f\"test accuracy of {clf.__class__.__name__} is: {test_accu:.3%}\")\n",
    "    \n",
    "    # and train roc to compare\n",
    "    fig, ax = plt.subplots(figsize=(8, 6))\n",
    "    fig.suptitle(\"ROC\")\n",
    "    for clf in clfs:\n",
    "        fpr, tpr, thresholds = roc_curve(y_test, clf.predict_proba(X_test)[:,1])\n",
    "        ax.plot(fpr, tpr, label=clf.__class__.__name__)\n",
    "    ax.legend(loc=\"best\")\n",
    "    ax.set_xlabel(\"fpr\")\n",
    "    ax.set_ylabel(\"tpr\")\n",
    "    plt.show()\n"
   ]
  },
  {
   "cell_type": "code",
   "execution_count": 18,
   "metadata": {},
   "outputs": [
    {
     "name": "stdout",
     "output_type": "stream",
     "text": [
      "test accuracy of RandomForestClassifier is: 96.846%\n",
      "test accuracy of LogisticRegression is: 97.109%\n"
     ]
    },
    {
     "data": {
      "image/png": "[encoded data removed]",
      "text/plain": [
       "<Figure size 576x432 with 1 Axes>"
      ]
     },
     "metadata": {
      "needs_background": "light"
     },
     "output_type": "display_data"
    }
   ],
   "source": [
    "\n",
    "validation([rf_classifier1, lr_classifier1], X_test, y_test)"
   ]
  },
  {
   "cell_type": "code",
   "execution_count": 19,
   "metadata": {},
   "outputs": [],
   "source": [
    "# Then we get the roc index.\n",
    "# test accuracy of RandomForestClassifier is: 96.846%\n",
    "# test accuracy of LogisticRegression is: 97.109%"
   ]
  },
  {
   "cell_type": "code",
   "execution_count": 20,
   "metadata": {},
   "outputs": [],
   "source": [
    "# Let's do the same thing to the second dataset"
   ]
  },
  {
   "cell_type": "code",
   "execution_count": 21,
   "metadata": {},
   "outputs": [
    {
     "name": "stdout",
     "output_type": "stream",
     "text": [
      "For the ozone_eighthr:\n",
      "Counter({0: 2374, 1: 160})\n"
     ]
    }
   ],
   "source": [
    "# datafile：ozone_eighthr.csv\n",
    "print(\"For the ozone_eighthr:\")\n",
    "file_name = File2\n",
    "dataset = pd.read_csv(file_name)\n",
    "dataset = dataset.replace('?', np.nan).infer_objects()\n",
    "object_of_file = [col for col in dataset.columns if dataset[col].dtype == 'object']\n",
    "object_of_file.pop(object_of_file.index('Date'))\n",
    "dataset[object_of_file] = dataset[object_of_file].applymap(float)\n",
    "df_0 = dataset\n",
    "\n",
    "df = df_0\n",
    "#fill the nan\n",
    "nan_cols = df.columns[df.isnull().sum() > 0]\n",
    "values = {col:df[col].mean() for col in nan_cols}\n",
    "df_0 = df.fillna(value=values)\n",
    "print(Counter(df_0['Orzone'].values))"
   ]
  },
  {
   "cell_type": "code",
   "execution_count": 22,
   "metadata": {},
   "outputs": [
    {
     "name": "stdout",
     "output_type": "stream",
     "text": [
      "-----------------------------RandomForestClassifier-----------------------------\n",
      "the best paramsters by grid-search is:{'criterion': 'entropy', 'n_estimators': 100}\n",
      "the best paramsters is:0.9435984207557812\n",
      "time cost of model training: 0.411898 S\n",
      "train accuracy:99.944%\n",
      "-------------------------------LogisticRegression-------------------------------\n",
      "the best paramsters by grid-search is:{'C': 0.1, 'penalty': 'l2'}\n",
      "the best paramsters is:0.943034404963339\n",
      "time cost of model training: 0.0169544 S\n",
      "train accuracy:94.529%\n",
      "test accuracy of RandomForestClassifier is: 94.218%\n",
      "test accuracy of LogisticRegression is: 94.350%\n"
     ]
    },
    {
     "data": {
      "image/png": "[encoded data removed]",
      "text/plain": [
       "<Figure size 576x432 with 1 Axes>"
      ]
     },
     "metadata": {
      "needs_background": "light"
     },
     "output_type": "display_data"
    }
   ],
   "source": [
    "X_train, X_test, y_train, y_test = data_split(df_0)\n",
    "rf_classifier2 = model_train(rfc, RFC_ARGS, X_train, y_train)\n",
    "lr_classifier2 = model_train(lrc, LRC_ARGS, X_train, y_train)\n",
    "validation([rf_classifier2, lr_classifier2], X_test, y_test)"
   ]
  },
  {
   "cell_type": "code",
   "execution_count": 23,
   "metadata": {},
   "outputs": [],
   "source": [
    "# Thus we can get conclusions:\n",
    "# 1. Both models have achieved very high accuracy on both data sets.\n",
    "# 2. However, due to the large difference between the number of positive and negative samples, and a lot of loss data, \n",
    "# these factors may lead the prediciton not accuracy,\n",
    "# However by comparing ROC curve, we find that randomforest classifier is better than logistic regression model\n",
    "# and they both get very high accuracy\n",
    "# 3. Although randomforestclassifier is better than logistregression in performance, \n",
    "# its training time is much loger\n",
    "# So, if we want to train a model with very big data, we could choose logistic first , if the data is not so big, we could use decision tree "
   ]
  },
  {
   "cell_type": "code",
   "execution_count": null,
   "metadata": {},
   "outputs": [],
   "source": []
  },
  {
   "cell_type": "code",
   "execution_count": null,
   "metadata": {},
   "outputs": [],
   "source": []
  }
 ],
 "metadata": {
  "kernelspec": {
   "display_name": "Python 3",
   "language": "python",
   "name": "python3"
  },
  "language_info": {
   "codemirror_mode": {
    "name": "ipython",
    "version": 3
   },
   "file_extension": ".py",
   "mimetype": "text/x-python",
   "name": "python",
   "nbconvert_exporter": "python",
   "pygments_lexer": "ipython3",
   "version": "3.7.3"
  }
 },
 "nbformat": 4,
 "nbformat_minor": 2
}
